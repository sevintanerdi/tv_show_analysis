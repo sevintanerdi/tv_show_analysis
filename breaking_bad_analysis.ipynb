{
 "cells": [
  {
   "cell_type": "markdown",
   "id": "f4a63252",
   "metadata": {},
   "source": [
    " 1. Introduction \n",
    " **Breaking Bad** is an American television drama series created by *Vince Gilligan*. The show premiered on **AMC** in January 2008 and ran for five seasons, concluding in 2013. The story follows *Walter White*, a high school chemistry teacher who turns to producing methamphetamine after being diagnosed with cancer."
   ]
  },
  {
   "cell_type": "markdown",
   "id": "1b40a61c",
   "metadata": {},
   "source": [
    "2. Logo"
   ]
  },
  {
   "cell_type": "code",
   "execution_count": 1,
   "id": "b549f055",
   "metadata": {},
   "outputs": [
    {
     "data": {
      "text/html": [
       "<img src=\"https://upload.wikimedia.org/wikipedia/en/6/61/Breaking_Bad_title_card.png\"/>"
      ],
      "text/plain": [
       "<IPython.core.display.Image object>"
      ]
     },
     "execution_count": 1,
     "metadata": {},
     "output_type": "execute_result"
    }
   ],
   "source": [
    "from IPython.display import Image\n",
    "Image(url=\"https://upload.wikimedia.org/wikipedia/en/6/61/Breaking_Bad_title_card.png\")"
   ]
  },
  {
   "cell_type": "markdown",
   "id": "dc7fc464",
   "metadata": {},
   "source": [
    "3. Viewership Data"
   ]
  },
  {
   "cell_type": "code",
   "execution_count": 6,
   "id": "6eba17dc",
   "metadata": {},
   "outputs": [
    {
     "data": {
      "text/html": [
       "<div>\n",
       "<style scoped>\n",
       "    .dataframe tbody tr th:only-of-type {\n",
       "        vertical-align: middle;\n",
       "    }\n",
       "\n",
       "    .dataframe tbody tr th {\n",
       "        vertical-align: top;\n",
       "    }\n",
       "\n",
       "    .dataframe thead th {\n",
       "        text-align: right;\n",
       "    }\n",
       "</style>\n",
       "<table border=\"1\" class=\"dataframe\">\n",
       "  <thead>\n",
       "    <tr style=\"text-align: right;\">\n",
       "      <th></th>\n",
       "      <th>Season</th>\n",
       "      <th>Average_Viewers_Millions</th>\n",
       "    </tr>\n",
       "  </thead>\n",
       "  <tbody>\n",
       "    <tr>\n",
       "      <th>0</th>\n",
       "      <td>1</td>\n",
       "      <td>1.41</td>\n",
       "    </tr>\n",
       "    <tr>\n",
       "      <th>1</th>\n",
       "      <td>2</td>\n",
       "      <td>1.32</td>\n",
       "    </tr>\n",
       "    <tr>\n",
       "      <th>2</th>\n",
       "      <td>3</td>\n",
       "      <td>1.52</td>\n",
       "    </tr>\n",
       "    <tr>\n",
       "      <th>3</th>\n",
       "      <td>4</td>\n",
       "      <td>1.90</td>\n",
       "    </tr>\n",
       "    <tr>\n",
       "      <th>4</th>\n",
       "      <td>5</td>\n",
       "      <td>4.32</td>\n",
       "    </tr>\n",
       "  </tbody>\n",
       "</table>\n",
       "</div>"
      ],
      "text/plain": [
       "   Season  Average_Viewers_Millions\n",
       "0       1                      1.41\n",
       "1       2                      1.32\n",
       "2       3                      1.52\n",
       "3       4                      1.90\n",
       "4       5                      4.32"
      ]
     },
     "execution_count": 6,
     "metadata": {},
     "output_type": "execute_result"
    }
   ],
   "source": [
    "import pandas as pd\n",
    "\n",
    "data = {\n",
    "'Season': [1, 2, 3, 4, 5],\n",
    "'Average_Viewers_Millions': [1.41, 1.32, 1.52, 1.90, 4.32]\n",
    "}\n",
    "\n",
    "df = pd.DataFrame(data)\n",
    "df"
   ]
  },
  {
   "cell_type": "markdown",
   "id": "74dc3fd2",
   "metadata": {},
   "source": [
    "4. Summary Statistics"
   ]
  },
  {
   "cell_type": "code",
   "execution_count": 8,
   "id": "381778c4",
   "metadata": {},
   "outputs": [
    {
     "data": {
      "text/html": [
       "<div>\n",
       "<style scoped>\n",
       "    .dataframe tbody tr th:only-of-type {\n",
       "        vertical-align: middle;\n",
       "    }\n",
       "\n",
       "    .dataframe tbody tr th {\n",
       "        vertical-align: top;\n",
       "    }\n",
       "\n",
       "    .dataframe thead th {\n",
       "        text-align: right;\n",
       "    }\n",
       "</style>\n",
       "<table border=\"1\" class=\"dataframe\">\n",
       "  <thead>\n",
       "    <tr style=\"text-align: right;\">\n",
       "      <th></th>\n",
       "      <th>Season</th>\n",
       "      <th>Average_Viewers_Millions</th>\n",
       "    </tr>\n",
       "  </thead>\n",
       "  <tbody>\n",
       "    <tr>\n",
       "      <th>count</th>\n",
       "      <td>5.000000</td>\n",
       "      <td>5.000000</td>\n",
       "    </tr>\n",
       "    <tr>\n",
       "      <th>mean</th>\n",
       "      <td>3.000000</td>\n",
       "      <td>2.094000</td>\n",
       "    </tr>\n",
       "    <tr>\n",
       "      <th>std</th>\n",
       "      <td>1.581139</td>\n",
       "      <td>1.263835</td>\n",
       "    </tr>\n",
       "    <tr>\n",
       "      <th>min</th>\n",
       "      <td>1.000000</td>\n",
       "      <td>1.320000</td>\n",
       "    </tr>\n",
       "    <tr>\n",
       "      <th>25%</th>\n",
       "      <td>2.000000</td>\n",
       "      <td>1.410000</td>\n",
       "    </tr>\n",
       "    <tr>\n",
       "      <th>50%</th>\n",
       "      <td>3.000000</td>\n",
       "      <td>1.520000</td>\n",
       "    </tr>\n",
       "    <tr>\n",
       "      <th>75%</th>\n",
       "      <td>4.000000</td>\n",
       "      <td>1.900000</td>\n",
       "    </tr>\n",
       "    <tr>\n",
       "      <th>max</th>\n",
       "      <td>5.000000</td>\n",
       "      <td>4.320000</td>\n",
       "    </tr>\n",
       "  </tbody>\n",
       "</table>\n",
       "</div>"
      ],
      "text/plain": [
       "         Season  Average_Viewers_Millions\n",
       "count  5.000000                  5.000000\n",
       "mean   3.000000                  2.094000\n",
       "std    1.581139                  1.263835\n",
       "min    1.000000                  1.320000\n",
       "25%    2.000000                  1.410000\n",
       "50%    3.000000                  1.520000\n",
       "75%    4.000000                  1.900000\n",
       "max    5.000000                  4.320000"
      ]
     },
     "execution_count": 8,
     "metadata": {},
     "output_type": "execute_result"
    }
   ],
   "source": [
    "df.describe()"
   ]
  },
  {
   "cell_type": "markdown",
   "id": "48ab20d5",
   "metadata": {},
   "source": [
    "5. Viewership Over Time"
   ]
  },
  {
   "cell_type": "code",
   "execution_count": 10,
   "id": "bc77ba7f",
   "metadata": {},
   "outputs": [
    {
     "data": {
      "image/png": "[encoded data removed]",
      "text/plain": [
       "<Figure size 640x480 with 1 Axes>"
      ]
     },
     "metadata": {},
     "output_type": "display_data"
    }
   ],
   "source": [
    "import matplotlib.pyplot as plt\n",
    "\n",
    "plt.plot(df['Season'], df['Average_Viewers_Millions'], marker='o', linestyle='-')\n",
    "plt.title(\"Average Viewership per Season\")\n",
    "plt.xlabel(\"Season\")\n",
    "plt.ylabel(\"Millions of Viewers\")\n",
    "plt.grid(True)\n",
    "plt.xticks(df['Season'])\n",
    "plt.show()"
   ]
  },
  {
   "cell_type": "markdown",
   "id": "a3813fe7",
   "metadata": {},
   "source": [
    "6. Change in Viewership Between Seasons"
   ]
  },
  {
   "cell_type": "code",
   "execution_count": 12,
   "id": "5adccce9",
   "metadata": {},
   "outputs": [
    {
     "data": {
      "image/png": "[encoded data removed]",
      "text/plain": [
       "<Figure size 640x480 with 1 Axes>"
      ]
     },
     "metadata": {},
     "output_type": "display_data"
    }
   ],
   "source": [
    "df['Change'] = df['Average_Viewers_Millions'].diff()\n",
    "\n",
    "plt.bar(df['Season'][1:], df['Change'][1:])\n",
    "plt.title(\"Change in Viewership Between Seasons\")\n",
    "plt.xlabel(\"Season\")\n",
    "plt.ylabel(\"Change in Viewers (Millions)\")\n",
    "plt.xticks(df['Season'][1:])\n",
    "plt.axhline(0, color='gray', linestyle='--')\n",
    "plt.show()"
   ]
  },
  {
   "cell_type": "markdown",
   "id": "b9af998a",
   "metadata": {},
   "source": [
    "7. Interpretation of changes\n",
    "\n",
    "The viewership of *Breaking Bad* started relatively low, with 1.41 million viewers in Season 1. There was a slight decline in Season 2, followed by a gradual increase in Seasons 3 and 4.\n",
    "\n",
    "The most significant rise occurred between **Season 4 and Season 5**, where the average viewership jumped from **1.90 million** to **4.32 million**, an increase of **2.42 million viewers**.\n",
    "\n",
    "This suggests that the show's popularity grew substantially toward its final season, possibly due to critical acclaim, word-of-mouth, and increased accessibility through streaming platforms."
   ]
  }
 ],
 "metadata": {
  "kernelspec": {
   "display_name": "Virtual",
   "language": "python",
   "name": "python3"
  },
  "language_info": {
   "codemirror_mode": {
    "name": "ipython",
    "version": 3
   },
   "file_extension": ".py",
   "mimetype": "text/x-python",
   "name": "python",
   "nbconvert_exporter": "python",
   "pygments_lexer": "ipython3",
   "version": "3.11.5"
  }
 },
 "nbformat": 4,
 "nbformat_minor": 5
}
